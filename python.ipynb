{
  "cells": [
    {
      "cell_type": "markdown",
      "metadata": {
        "id": "view-in-github",
        "colab_type": "text"
      },
      "source": [
        "<a href=\"https://colab.research.google.com/github/pulapallyyashwanth/PYTHON/blob/main/python.ipynb\" target=\"_parent\"><img src=\"https://colab.research.google.com/assets/colab-badge.svg\" alt=\"Open In Colab\"/></a>"
      ]
    },
    {
      "cell_type": "code",
      "execution_count": null,
      "metadata": {
        "id": "yC9gv2eYJBX4"
      },
      "outputs": [],
      "source": []
    },
    {
      "cell_type": "markdown",
      "metadata": {
        "id": "jAZsNcTkVIXz"
      },
      "source": [
        "#Module 1"
      ]
    },
    {
      "cell_type": "code",
      "execution_count": null,
      "metadata": {
        "colab": {
          "base_uri": "https://localhost:8080/"
        },
        "id": "RX4qqWqVUB3M",
        "outputId": "7641732f-0150-48fb-807a-b56174110a47"
      },
      "outputs": [
        {
          "name": "stdout",
          "output_type": "stream",
          "text": [
            "Hello wrold!\n"
          ]
        }
      ],
      "source": [
        "#write a program to print \"hello world\"\n",
        "# by using \"print()\" its an inbuilt function to display your output\n",
        "print(\"Hello wrold!\")"
      ]
    },
    {
      "cell_type": "markdown",
      "metadata": {
        "id": "vs4rWvOsWh2P"
      },
      "source": [
        "#Numerical data types in Python"
      ]
    },
    {
      "cell_type": "code",
      "execution_count": null,
      "metadata": {
        "colab": {
          "base_uri": "https://localhost:8080/"
        },
        "id": "AF_cxazNWmxF",
        "outputId": "8255c97d-a272-4608-d3ff-bae02dd8c5c0"
      },
      "outputs": [
        {
          "name": "stdout",
          "output_type": "stream",
          "text": [
            "10\n",
            "-5\n",
            "<class 'int'>\n",
            "<class 'int'>\n"
          ]
        }
      ],
      "source": [
        "#there 3 types\n",
        "#1. Integer:-  its a whole number either +ve or -ve without decimal points\n",
        "print(10)\n",
        "print(-5)\n",
        "#find the data type for above integers\n",
        "#use the 'type()' is an inbuilt function used to find the data type\n",
        "print(type(10))\n",
        "print(type(-5))"
      ]
    },
    {
      "cell_type": "code",
      "execution_count": null,
      "metadata": {
        "colab": {
          "base_uri": "https://localhost:8080/"
        },
        "id": "1ufVvujYXrLX",
        "outputId": "17f6c977-2537-4c20-f53b-6931de9794aa"
      },
      "outputs": [
        {
          "name": "stdout",
          "output_type": "stream",
          "text": [
            "10.5\n",
            "-5.5\n",
            "<class 'float'>\n",
            "<class 'float'>\n"
          ]
        }
      ],
      "source": [
        "#2. Float:-  its a whole number either +ve or -ve with decimal point\n",
        "print(10.5)\n",
        "print(-5.5)\n",
        "#print the data type for above integers\n",
        "print(type(10.5))\n",
        "print(type(-5.5))"
      ]
    },
    {
      "cell_type": "code",
      "execution_count": null,
      "metadata": {
        "colab": {
          "base_uri": "https://localhost:8080/"
        },
        "id": "OrggXm80YkBN",
        "outputId": "b36ba450-3443-4245-a469-cd203784d0b3"
      },
      "outputs": [
        {
          "name": "stdout",
          "output_type": "stream",
          "text": [
            "(2+5j)\n",
            "(3+6j)\n",
            "(2+5j)\n",
            "<class 'complex'>\n"
          ]
        }
      ],
      "source": [
        "#3.complex number:- A real number with its imaginary part is known as complex number\n",
        "# imaginary part is denoted with \"j\"--> is known as iota\n",
        "print(2 + 5j)\n",
        "print(3 + 6j)\n",
        "print(\n",
        "    (2 + 5j))\n",
        "print(type(3 + 6j))"
      ]
    },
    {
      "cell_type": "markdown",
      "metadata": {
        "id": "7s5cnTadabxh"
      },
      "source": [
        "#Arthametic Operators"
      ]
    },
    {
      "cell_type": "code",
      "execution_count": null,
      "metadata": {
        "colab": {
          "base_uri": "https://localhost:8080/"
        },
        "id": "-205ejlsagRc",
        "outputId": "61c486e0-a24f-4905-ffc0-ce03a6d8c64f"
      },
      "outputs": [
        {
          "name": "stdout",
          "output_type": "stream",
          "text": [
            "15\n",
            "5\n",
            "50\n",
            "2.0\n"
          ]
        }
      ],
      "source": [
        "#what are all arthmetic operators do we have in python?\n",
        "#There are 7 Types\n",
        "#1.Addition----> +\n",
        "print(10 + 5)\n",
        "#2. substarction ---> -\n",
        "print(10 - 5)\n",
        "#3. multiplication----> *\n",
        "print(10 * 5)\n",
        "#4. division -----> /\n",
        "print(10 / 5)\n",
        "#why the default dtype for division is float?\n",
        "#To Get proper co-effiecient the founder of python \"gudeo van rossum\" make dtype as float"
      ]
    },
    {
      "cell_type": "code",
      "execution_count": null,
      "metadata": {
        "colab": {
          "base_uri": "https://localhost:8080/"
        },
        "id": "rKcpjQQab6oT",
        "outputId": "51e5ee54-38b3-47b8-b355-1457c2402176"
      },
      "outputs": [
        {
          "name": "stdout",
          "output_type": "stream",
          "text": [
            "0\n",
            "1\n",
            "0\n"
          ]
        }
      ],
      "source": [
        "#5. Modulus---> %--> remainder of the division\n",
        "print(10 % 5)\n",
        "print(7 % 2)\n",
        "print(10 % 2)"
      ]
    },
    {
      "cell_type": "code",
      "execution_count": null,
      "metadata": {
        "colab": {
          "base_uri": "https://localhost:8080/"
        },
        "id": "3zMuKpWvcZ7s",
        "outputId": "dbdbf246-7f85-4a65-8772-814ec8d64516"
      },
      "outputs": [
        {
          "name": "stdout",
          "output_type": "stream",
          "text": [
            "100000\n",
            "8\n"
          ]
        }
      ],
      "source": [
        "#6. exponential----> ** --> to the power off\n",
        "print(10 ** 5)\n",
        "print(2 ** 3)"
      ]
    },
    {
      "cell_type": "code",
      "execution_count": null,
      "metadata": {
        "colab": {
          "base_uri": "https://localhost:8080/"
        },
        "id": "zOGt2Q3scoLL",
        "outputId": "51e99e78-e105-4fd2-dce0-a481eb00e01b"
      },
      "outputs": [
        {
          "name": "stdout",
          "output_type": "stream",
          "text": [
            "3.3333333333333335\n",
            "3\n"
          ]
        }
      ],
      "source": [
        "#7. floor division--> //\n",
        "# it ignores the values after the decimal point\n",
        "print(10 / 3)\n",
        "print(10 // 3)"
      ]
    },
    {
      "cell_type": "markdown",
      "metadata": {
        "id": "KeaVpszoXcDJ"
      },
      "source": [
        "**10-12-2024**"
      ]
    },
    {
      "cell_type": "code",
      "execution_count": null,
      "metadata": {
        "id": "KyKrvQRdXfw7"
      },
      "outputs": [],
      "source": [
        "#what ia Floor value?\n",
        "#The value before the the decimal point is known as floor value\n",
        "#what is the ceil value?\n",
        "#The next upcoimng value or nearest value is known as ceil value."
      ]
    },
    {
      "cell_type": "markdown",
      "metadata": {
        "id": "mIFTssOvYeiC"
      },
      "source": [
        "**Round()**"
      ]
    },
    {
      "cell_type": "code",
      "execution_count": null,
      "metadata": {
        "colab": {
          "base_uri": "https://localhost:8080/"
        },
        "id": "jg0AjAy2YW4R",
        "outputId": "27e91d02-ae00-4eec-94ea-492fbf092893"
      },
      "outputs": [
        {
          "name": "stdout",
          "output_type": "stream",
          "text": [
            "6\n"
          ]
        }
      ],
      "source": [
        "#How to use round()?\n",
        "#can be used inside the print()\n",
        "# ** round can be applicable if the number is float.\n",
        "print(round(6))"
      ]
    },
    {
      "cell_type": "code",
      "execution_count": null,
      "metadata": {
        "id": "WljikTDdZNSh",
        "colab": {
          "base_uri": "https://localhost:8080/"
        },
        "outputId": "dcc18449-3450-4e71-fd20-b755f3a75206"
      },
      "outputs": [
        {
          "output_type": "stream",
          "name": "stdout",
          "text": [
            "3\n"
          ]
        }
      ],
      "source": [
        "print(round(2.63))"
      ]
    },
    {
      "cell_type": "code",
      "execution_count": null,
      "metadata": {
        "id": "dVZU5PMgZY6A",
        "colab": {
          "base_uri": "https://localhost:8080/"
        },
        "outputId": "4b83ecff-5a52-47b1-f9d6-65fe17647e1e"
      },
      "outputs": [
        {
          "output_type": "stream",
          "name": "stdout",
          "text": [
            "4\n"
          ]
        }
      ],
      "source": [
        "print(round(3.50))"
      ]
    },
    {
      "cell_type": "code",
      "execution_count": null,
      "metadata": {
        "colab": {
          "base_uri": "https://localhost:8080/"
        },
        "id": "hhNsEKpEZ2fV",
        "outputId": "32018274-a910-4614-cc3e-a4aa6dc02185"
      },
      "outputs": [
        {
          "output_type": "stream",
          "name": "stdout",
          "text": [
            "2546.9382\n"
          ]
        }
      ],
      "source": [
        "#  2546.938246746\n",
        "#round(number, ndigits)\n",
        "print(round(2546.938246746,4))\n",
        "#Note:- Round() is used to print the specific ndigits of the float number"
      ]
    },
    {
      "cell_type": "code",
      "execution_count": null,
      "metadata": {
        "id": "IVC2YtVBaene",
        "colab": {
          "base_uri": "https://localhost:8080/"
        },
        "outputId": "6df4dc84-fb1d-4191-d072-d5c145718612"
      },
      "outputs": [
        {
          "output_type": "stream",
          "name": "stdout",
          "text": [
            "12000.0\n",
            "13600.0\n"
          ]
        }
      ],
      "source": [
        "#Note if i give -ve ndigits count then the round function ignores the values after the decimal point and make it as zero\n",
        "print(round(12345.73836352,-3))\n",
        "print(round(13644.89764,-2))\n"
      ]
    },
    {
      "cell_type": "markdown",
      "metadata": {
        "id": "MyxPu_DPcitR"
      },
      "source": [
        "**Varaibles**"
      ]
    },
    {
      "cell_type": "code",
      "execution_count": null,
      "metadata": {
        "colab": {
          "base_uri": "https://localhost:8080/",
          "height": 52
        },
        "id": "JLUiFturcmxV",
        "outputId": "7969e5ea-02f3-44d0-b8c8-c4c593d2b6d5"
      },
      "outputs": [
        {
          "data": {
            "application/vnd.google.colaboratory.intrinsic+json": {
              "type": "string"
            },
            "text/plain": [
              "' let say father age is 40\\nand son age is half of father age\\nlet say father age is x and son age is\\nhalf of father age then son age is x/2'"
            ]
          },
          "execution_count": 16,
          "metadata": {},
          "output_type": "execute_result"
        }
      ],
      "source": [
        "#what is varaible?\n",
        "#varaibles are nothing but a container where we can store our valuable information and reuse it.\n",
        "#How can we create a varaible?\n",
        "\"\"\" let say father age is 40\n",
        "and son age is half of father age\n",
        "let say father age is x and son age is\n",
        "half of father age then son age is x/2\"\"\""
      ]
    },
    {
      "cell_type": "code",
      "execution_count": null,
      "metadata": {
        "colab": {
          "base_uri": "https://localhost:8080/"
        },
        "id": "7ClLLfG7e2xu",
        "outputId": "bad90dee-5046-4b21-e645-945446608585"
      },
      "outputs": [
        {
          "name": "stdout",
          "output_type": "stream",
          "text": [
            "20.0\n"
          ]
        }
      ],
      "source": [
        "x = 40\n",
        "son_age = x/2\n",
        "print(son_age)"
      ]
    },
    {
      "cell_type": "code",
      "execution_count": null,
      "metadata": {
        "colab": {
          "base_uri": "https://localhost:8080/"
        },
        "id": "HBd6_KX_fPyg",
        "outputId": "17f7ced2-cbcc-4335-ea22-39dc36ec51c5"
      },
      "outputs": [
        {
          "name": "stdout",
          "output_type": "stream",
          "text": [
            "15\n"
          ]
        }
      ],
      "source": [
        "#take two numerical varaibles and apply all the arthametic operations?\n",
        "a = 10\n",
        "b = 5\n",
        "print(a + b)"
      ]
    },
    {
      "cell_type": "markdown",
      "metadata": {
        "id": "1QVKl410gOjx"
      },
      "source": [
        "**Types errors in Python**"
      ]
    },
    {
      "cell_type": "code",
      "execution_count": null,
      "metadata": {
        "id": "EMx6NtQhgNlE"
      },
      "outputs": [],
      "source": [
        "#How many types of errors do we have in python?\n",
        "#There are two types\n",
        "#1. Syntax error\n",
        "#2. Logical error"
      ]
    },
    {
      "cell_type": "markdown",
      "metadata": {
        "id": "be0MtjoMggVS"
      },
      "source": [
        "**1. Syntax error**"
      ]
    },
    {
      "cell_type": "code",
      "execution_count": null,
      "metadata": {
        "colab": {
          "base_uri": "https://localhost:8080/",
          "height": 52
        },
        "id": "KeZajCk9ge_S",
        "outputId": "4bd11d2f-a55a-4cc7-b755-ac6aa51e5d05"
      },
      "outputs": [
        {
          "data": {
            "application/vnd.google.colaboratory.intrinsic+json": {
              "type": "string"
            },
            "text/plain": [
              "\" Multiline comments can be\\nwritten in double triple quotes or single triple quotes\\nwhen you use the  (double triple quotes) close it with double triple quotes\\nif you use the single triple quotes(''') close it with single triple quotes(''') \""
            ]
          },
          "execution_count": 20,
          "metadata": {},
          "output_type": "execute_result"
        }
      ],
      "source": [
        "#Breaking the rules of programming language can rise an syntax error\n",
        "\"\"\" Multiline comments can be\n",
        "written in double triple quotes or single triple quotes\n",
        "when you use the  (double triple quotes) close it with double triple quotes\n",
        "if you use the single triple quotes(''') close it with single triple quotes(''') \"\"\""
      ]
    },
    {
      "cell_type": "code",
      "execution_count": null,
      "metadata": {
        "colab": {
          "base_uri": "https://localhost:8080/",
          "height": 106
        },
        "collapsed": true,
        "id": "RQhp3M4ghpXf",
        "outputId": "14a626ce-ccc8-4215-b374-d66d8e13c169"
      },
      "outputs": [
        {
          "ename": "SyntaxError",
          "evalue": "invalid syntax (<ipython-input-21-11fc910c80e1>, line 1)",
          "output_type": "error",
          "traceback": [
            "\u001b[0;36m  File \u001b[0;32m\"<ipython-input-21-11fc910c80e1>\"\u001b[0;36m, line \u001b[0;32m1\u001b[0m\n\u001b[0;31m    print(10 * * 3)\u001b[0m\n\u001b[0m               ^\u001b[0m\n\u001b[0;31mSyntaxError\u001b[0m\u001b[0;31m:\u001b[0m invalid syntax\n"
          ]
        }
      ],
      "source": [
        "print(10 * * 3)"
      ]
    },
    {
      "cell_type": "markdown",
      "metadata": {
        "id": "QwUjrfXKh1Iw"
      },
      "source": [
        "**2.Logical Error**"
      ]
    },
    {
      "cell_type": "code",
      "execution_count": null,
      "metadata": {
        "id": "nxAFc89Nh441"
      },
      "outputs": [],
      "source": [
        "#except syntax error all the erros comes under the logical errors\n",
        "#ex:- indentation error, Name error, attribute error....etc"
      ]
    },
    {
      "cell_type": "markdown",
      "metadata": {
        "id": "AKdYU1WTitmn"
      },
      "source": [
        "**Rules to create the varaibles**"
      ]
    },
    {
      "cell_type": "code",
      "execution_count": null,
      "metadata": {
        "id": "Xg7Q9w8Vixon"
      },
      "outputs": [],
      "source": [
        "#1. start creating the varaibles by using the alphabets\n",
        "a = \"hello world!\"\n",
        "print(a)"
      ]
    },
    {
      "cell_type": "code",
      "execution_count": null,
      "metadata": {
        "id": "8hFr2C4ti8r4"
      },
      "outputs": [],
      "source": [
        "#2.Dont start creating the varibles by using the numbers\n",
        "2 = \"hello world\"\n",
        "print(2)"
      ]
    },
    {
      "cell_type": "code",
      "execution_count": null,
      "metadata": {
        "id": "tqlqDO2UjHpA"
      },
      "outputs": [],
      "source": [
        "#3.if you follow rule 1 and 2 you can use the number in between the varaible name\n",
        "son2age= 40\n",
        "print(son2age)"
      ]
    },
    {
      "cell_type": "code",
      "execution_count": null,
      "metadata": {
        "id": "Xoh-N3dHjVOP"
      },
      "outputs": [],
      "source": [
        "#4.we should not use the special characters in between the varaibles\n",
        "#@$%^&*\n",
        "son@age = 20\n",
        "print(son@age)"
      ]
    },
    {
      "cell_type": "code",
      "execution_count": null,
      "metadata": {
        "id": "7pyfue7PjnK2"
      },
      "outputs": [],
      "source": [
        "#5. Dont separate the varaible with white spaces instead use the _\n",
        "son age = 20\n",
        "print(son age)"
      ]
    },
    {
      "cell_type": "code",
      "execution_count": null,
      "metadata": {
        "id": "iLZIjnbVjxHA"
      },
      "outputs": [],
      "source": [
        "#6. start creating the varaible by using underscore (_)\n",
        "_ = \"hello\"\n",
        "print(_)"
      ]
    },
    {
      "cell_type": "code",
      "execution_count": null,
      "metadata": {
        "id": "3OP1VWc8kDjN"
      },
      "outputs": [],
      "source": [
        "#7. don't use the uppercase letters as a varaible name\n",
        "son_age = 20"
      ]
    },
    {
      "cell_type": "code",
      "execution_count": null,
      "metadata": {
        "id": "mcEymcsmkRt-"
      },
      "outputs": [],
      "source": [
        "#we cannot use the keyword means inbuilt words\n",
        "import keyword\n",
        "print(keyword.kwlist)"
      ]
    },
    {
      "cell_type": "markdown",
      "metadata": {
        "id": "4TJpfGiZk72q"
      },
      "source": [
        "**smart ways of writing the varaibles**"
      ]
    },
    {
      "cell_type": "code",
      "execution_count": null,
      "metadata": {
        "id": "q9RmrG2_k_g4",
        "colab": {
          "base_uri": "https://localhost:8080/"
        },
        "outputId": "5882b9e3-a1da-4023-896a-0696a498294a"
      },
      "outputs": [
        {
          "output_type": "stream",
          "name": "stdout",
          "text": [
            "10\n",
            "5\n",
            "20\n"
          ]
        }
      ],
      "source": [
        "#assign multiple values to multiple varaibles and print in a seprate line\n",
        "#hint:- take 3 varaible and assign 3 values\n",
        "a = 10\n",
        "b = 5\n",
        "c = 20\n",
        "print(a)\n",
        "print(b)\n",
        "print(c)"
      ]
    },
    {
      "cell_type": "code",
      "execution_count": null,
      "metadata": {
        "id": "ANRB8yHTlYOl",
        "colab": {
          "base_uri": "https://localhost:8080/"
        },
        "outputId": "68a8f86a-9942-4459-fb41-a67af3529953"
      },
      "outputs": [
        {
          "output_type": "stream",
          "name": "stdout",
          "text": [
            "10\n",
            "5\n",
            "20\n"
          ]
        }
      ],
      "source": [
        "a,b,c = 10,5,20\n",
        "print(a,b,c,sep='\\n')"
      ]
    },
    {
      "cell_type": "code",
      "execution_count": null,
      "metadata": {
        "colab": {
          "base_uri": "https://localhost:8080/"
        },
        "id": "ycCUbejOlmmc",
        "outputId": "87d62b1d-2a10-41ae-db33-bc8aa65d2ea5"
      },
      "outputs": [
        {
          "name": "stdout",
          "output_type": "stream",
          "text": [
            "10\n",
            "10\n",
            "10\n"
          ]
        }
      ],
      "source": [
        "#assign the same value to the multiple varaibles\n",
        "#hint:- take 3 varaible and assign same values\n",
        "a = 10\n",
        "b = 10\n",
        "c = 10\n",
        "print(a,b,c,sep=\"\\n\")"
      ]
    },
    {
      "cell_type": "code",
      "execution_count": null,
      "metadata": {
        "colab": {
          "base_uri": "https://localhost:8080/"
        },
        "id": "um6TqAi-l4Ln",
        "outputId": "24931208-c0b3-44a4-e79f-a262a22ddecf"
      },
      "outputs": [
        {
          "name": "stdout",
          "output_type": "stream",
          "text": [
            "10\n",
            "10\n",
            "10\n"
          ]
        }
      ],
      "source": [
        "a = b = c = 10\n",
        "print(a,b,c,sep='\\n')"
      ]
    },
    {
      "cell_type": "code",
      "execution_count": null,
      "metadata": {
        "id": "4Nb-bsB-mHQh"
      },
      "outputs": [],
      "source": [
        "#Input()\n",
        "#strings()"
      ]
    },
    {
      "cell_type": "code",
      "execution_count": null,
      "metadata": {
        "colab": {
          "base_uri": "https://localhost:8080/"
        },
        "id": "smiATLz1f_Hw",
        "outputId": "2f7dd331-5872-40ec-a118-d5a1bcd78194"
      },
      "outputs": [
        {
          "output_type": "stream",
          "name": "stdout",
          "text": [
            "15\n",
            "15\n"
          ]
        }
      ],
      "source": [
        "print(10 + 5)\n",
        "a = 10\n",
        "b = 5\n",
        "print(a+b)"
      ]
    },
    {
      "cell_type": "code",
      "execution_count": null,
      "metadata": {
        "colab": {
          "base_uri": "https://localhost:8080/"
        },
        "id": "QI3EUOaRgPBc",
        "outputId": "1043f691-abf6-4dc6-909c-1522a541b493"
      },
      "outputs": [
        {
          "name": "stdout",
          "output_type": "stream",
          "text": [
            "5\n"
          ]
        }
      ],
      "source": [
        "print(a-b)"
      ]
    },
    {
      "cell_type": "markdown",
      "metadata": {
        "id": "dPqy7JHPgTCY"
      },
      "source": [
        "**11-12-2024**"
      ]
    },
    {
      "cell_type": "code",
      "execution_count": null,
      "metadata": {
        "colab": {
          "base_uri": "https://localhost:8080/"
        },
        "id": "TnqTOZbZgWAr",
        "outputId": "7cb451c5-55c5-4ec6-fda6-f947a4aab7d2"
      },
      "outputs": [
        {
          "name": "stdout",
          "output_type": "stream",
          "text": [
            "15\n",
            "5\n",
            "50\n",
            "2.0\n",
            "0\n",
            "100000\n",
            "2\n"
          ]
        }
      ],
      "source": [
        "#take two varaibles and apply all the arthametic operations\n",
        "a = 10\n",
        "b = 5\n",
        "print(a+b)\n",
        "print(a-b)\n",
        "print(a*b)\n",
        "print(a/b)\n",
        "print(a%b)\n",
        "print(a**b)\n",
        "print(a//b)"
      ]
    },
    {
      "cell_type": "code",
      "execution_count": null,
      "metadata": {
        "colab": {
          "base_uri": "https://localhost:8080/"
        },
        "id": "5NKR7-k_hCJs",
        "outputId": "41ddc748-a0fe-4d64-bef5-7a7ebad7ff45"
      },
      "outputs": [
        {
          "name": "stdout",
          "output_type": "stream",
          "text": [
            "76\n",
            "-36\n",
            "1120\n",
            "0.35714285714285715\n",
            "20\n",
            "7205759403792793600000000000000000000000000000000000000000000000000000000\n",
            "0\n"
          ]
        }
      ],
      "source": [
        "# 20,56\n",
        "a = 20\n",
        "b = 56\n",
        "print(a+b)\n",
        "print(a-b)\n",
        "print(a*b)\n",
        "print(a/b)\n",
        "print(a%b)\n",
        "print(a**b)\n",
        "print(a//b)"
      ]
    },
    {
      "cell_type": "markdown",
      "metadata": {
        "id": "JcSPfSmAhU4h"
      },
      "source": [
        "**Input()**"
      ]
    },
    {
      "cell_type": "code",
      "execution_count": null,
      "metadata": {
        "id": "zqPekqvXhhAC"
      },
      "outputs": [],
      "source": [
        "#what is input()?\n",
        "#it is an inbuilt function where it takes any information from the user and store it"
      ]
    },
    {
      "cell_type": "code",
      "execution_count": null,
      "metadata": {
        "colab": {
          "base_uri": "https://localhost:8080/"
        },
        "id": "8PI1h4Ilh2AH",
        "outputId": "ec7db3cc-dfd0-4206-fcfe-2a90f09de0e2"
      },
      "outputs": [
        {
          "output_type": "stream",
          "name": "stdout",
          "text": [
            "enter your mobile: 52665\n",
            "52665\n",
            "<class 'str'>\n"
          ]
        }
      ],
      "source": [
        "a = input(\"enter your mobile: \")\n",
        "print(a)\n",
        "print(type(a))"
      ]
    },
    {
      "cell_type": "code",
      "execution_count": null,
      "metadata": {
        "colab": {
          "base_uri": "https://localhost:8080/",
          "height": 70
        },
        "id": "3BWL9tJ_iafA",
        "outputId": "cabcbf20-ef38-424e-d800-eb03dbdfd5f8"
      },
      "outputs": [
        {
          "output_type": "execute_result",
          "data": {
            "text/plain": [
              "'Because the user dont know what type of information is going to enter, The function has \\nto be in such a way where it can takes any kind of information and store it, so the data type or\\nclass which can accepts any information is \"strings\"  '"
            ],
            "application/vnd.google.colaboratory.intrinsic+json": {
              "type": "string"
            }
          },
          "metadata": {},
          "execution_count": 24
        }
      ],
      "source": [
        "#what is default data type for input()?\n",
        "#string\n",
        "#why the default data type for input() is string?\n",
        "\"\"\"Because the user dont know what type of information is going to enter, The function has\n",
        "to be in such a way where it can takes any kind of information and store it, so the data type or\n",
        "class which can accepts any information is \"strings\"  \"\"\""
      ]
    },
    {
      "cell_type": "code",
      "execution_count": null,
      "metadata": {
        "colab": {
          "base_uri": "https://localhost:8080/"
        },
        "id": "mMDmzaKbl7vt",
        "outputId": "047a53ab-9114-4f02-9e17-c1740e235c1f"
      },
      "outputs": [
        {
          "output_type": "stream",
          "name": "stdout",
          "text": [
            "enter the number2\n",
            "enter the number5\n",
            "7\n",
            "-3\n",
            "10\n",
            "0.4\n",
            "2\n",
            "32\n",
            "0\n"
          ]
        }
      ],
      "source": [
        "#How can we deal with numerical data when we use input()?\n",
        "#we need to mention the numerical data type before input()\n",
        "a = int(input(\"enter the number\"))\n",
        "b = int(input(\"enter the number\"))\n",
        "print(a+b)\n",
        "print(a-b)\n",
        "print(a*b)\n",
        "print(a/b)\n",
        "print(a%b)\n",
        "print(a**b)\n",
        "print(a//b)"
      ]
    },
    {
      "cell_type": "code",
      "execution_count": null,
      "metadata": {
        "id": "Loj-Kp6HmjDs",
        "colab": {
          "base_uri": "https://localhost:8080/"
        },
        "outputId": "2cbff46d-c41a-46e3-9907-5331478d53c9"
      },
      "outputs": [
        {
          "output_type": "stream",
          "name": "stdout",
          "text": [
            "enter the number5\n",
            "enter the number7\n",
            "12.0\n",
            "-2.0\n",
            "<class 'float'>\n"
          ]
        }
      ],
      "source": [
        "a = float(input(\"enter the number\"))\n",
        "b = float(input(\"enter the number\"))\n",
        "print(a+b)\n",
        "print(a-b)\n",
        "print(type(a))"
      ]
    },
    {
      "cell_type": "markdown",
      "metadata": {
        "id": "RdTCG5CSoEvx"
      },
      "source": [
        "#Strings"
      ]
    },
    {
      "cell_type": "code",
      "execution_count": null,
      "metadata": {
        "id": "rg2eVR-SoHCn"
      },
      "outputs": [],
      "source": [
        "#What is string?\n",
        "#its a collection of multiple characters written inside the ('single quotes') or double quotes (\"\")\n",
        "#How can we declare a string?\n",
        "#('single quotes') or double quotes (\"\")"
      ]
    },
    {
      "cell_type": "code",
      "execution_count": null,
      "metadata": {
        "id": "gsntFxaSobQe",
        "colab": {
          "base_uri": "https://localhost:8080/"
        },
        "outputId": "0fee541c-f405-4d18-c7c4-f50800255dfa"
      },
      "outputs": [
        {
          "output_type": "stream",
          "name": "stdout",
          "text": [
            "Hello Wolrd!\n",
            "<class 'str'>\n"
          ]
        }
      ],
      "source": [
        "print(\"Hello Wolrd!\")\n",
        "print(type('Hello World!'))"
      ]
    },
    {
      "cell_type": "code",
      "execution_count": null,
      "metadata": {
        "id": "4uxnZZG1ozv7"
      },
      "outputs": [],
      "source": [
        "#how many types of strings?\n",
        "#two types\n",
        "#single line string---> (' ') or (\" \")\n",
        "#Multline line string--->(\"\"\" \"\"\") or (''' ''')"
      ]
    },
    {
      "cell_type": "code",
      "execution_count": null,
      "metadata": {
        "id": "B_mhU25cpZss",
        "colab": {
          "base_uri": "https://localhost:8080/"
        },
        "outputId": "93b13a0f-41e6-4209-f422-9d9739766605"
      },
      "outputs": [
        {
          "output_type": "stream",
          "name": "stdout",
          "text": [
            "Hi Team\n",
            "       Good Day!\n",
            "       Today we are discussing about strings\n",
            "       i am writing multiline string! \n"
          ]
        }
      ],
      "source": [
        "a = \"\"\"Hi Team\n",
        "       Good Day!\n",
        "       Today we are discussing about strings\n",
        "       i am writing multiline string! \"\"\"\n",
        "print(a)\n"
      ]
    },
    {
      "cell_type": "code",
      "execution_count": null,
      "metadata": {
        "id": "byE_y9yBpx8o",
        "colab": {
          "base_uri": "https://localhost:8080/"
        },
        "outputId": "6412aba7-3461-44e5-b507-9b6d75be8f5f"
      },
      "outputs": [
        {
          "output_type": "stream",
          "name": "stdout",
          "text": [
            "e\n",
            "r\n"
          ]
        }
      ],
      "source": [
        "#Note:- a string is a collection multiple characters where each character can be accessible (or) printable\n",
        "#How can we access the characters from string?\n",
        "#By using \"Indexing\" and slicing operator we access the characters from string\n",
        "#what is indexing?\n",
        "#positional number of each character in the string\n",
        "#indexing starts from zero\n",
        "a = \"Hello World!\"\n",
        "#access or print only \"e\" from above string\n",
        "#[index_number]\n",
        "print(a[1])\n",
        "#access or print only \"r\" from above string\n",
        "print(a[8])\n",
        "#print the \"Hello world!\" in seprate lines"
      ]
    },
    {
      "cell_type": "code",
      "execution_count": null,
      "metadata": {
        "id": "mbiSx0s3sZ-d"
      },
      "outputs": [],
      "source": [
        "#what is substrings?\n",
        "#getting a part of string from main string is known as sub-strings"
      ]
    },
    {
      "cell_type": "code",
      "execution_count": null,
      "metadata": {
        "id": "AjzH6AhRsrGB",
        "colab": {
          "base_uri": "https://localhost:8080/"
        },
        "outputId": "001de124-b6bd-45d4-81b8-69decb133d49"
      },
      "outputs": [
        {
          "output_type": "stream",
          "name": "stdout",
          "text": [
            "ello \n",
            "World!\n",
            "d after-\n"
          ]
        }
      ],
      "source": [
        "a = \"Hello World!\"\n",
        "##access or print \"ello\" from above string\n",
        "#[start_index:end_index]\n",
        "#Note: end index position is always--> n+1\n",
        "print(a[1:6])\n",
        "##access or print \"world!\" from above string\n",
        "print(a[6:12])\n",
        "b = \"Good after-noon!\"\n",
        "#access or print \"d after-\" from above string\n",
        "print(b[3:11])"
      ]
    },
    {
      "cell_type": "code",
      "execution_count": null,
      "metadata": {
        "id": "MxxvBibzuQS6",
        "colab": {
          "base_uri": "https://localhost:8080/"
        },
        "outputId": "0749370d-7a87-4cd9-e7e3-00a2436ccec3"
      },
      "outputs": [
        {
          "output_type": "stream",
          "name": "stdout",
          "text": [
            "16\n",
            "15\n",
            "!\n"
          ]
        }
      ],
      "source": [
        "#len()--> it returns the total count of characters in the string\n",
        "#len() starts from 1\n",
        "print(len(b))\n",
        "#find the end or last index position numbers\n",
        "print(len(b)-1)\n",
        "#print the last character of string b\n",
        "print(b[15])"
      ]
    },
    {
      "cell_type": "code",
      "source": [
        "c ='yadav'\n",
        "print(len(c))\n",
        "print(len(c)-4)"
      ],
      "metadata": {
        "colab": {
          "base_uri": "https://localhost:8080/"
        },
        "id": "K1nuQ2UT_Vm8",
        "outputId": "1e576901-d830-4465-f2f1-2e963781847a"
      },
      "execution_count": null,
      "outputs": [
        {
          "output_type": "stream",
          "name": "stdout",
          "text": [
            "5\n",
            "1\n"
          ]
        }
      ]
    },
    {
      "cell_type": "code",
      "execution_count": null,
      "metadata": {
        "id": "8VhmovfNpY1V",
        "colab": {
          "base_uri": "https://localhost:8080/"
        },
        "outputId": "88c1788b-f8bb-4a54-a103-b46749f9f259"
      },
      "outputs": [
        {
          "output_type": "stream",
          "name": "stdout",
          "text": [
            "10\n",
            "15\n",
            "25\n"
          ]
        }
      ],
      "source": [
        "a = int(input()) # '10'\n",
        "b = int(input()) # '15'\n",
        "print(a+b)"
      ]
    },
    {
      "cell_type": "markdown",
      "metadata": {
        "id": "YssJDkH7qCCe"
      },
      "source": [
        "**12-12-2024**"
      ]
    },
    {
      "cell_type": "code",
      "execution_count": null,
      "metadata": {
        "id": "OATkhtJRpwrJ"
      },
      "outputs": [],
      "source": [
        "#what is a string?\n",
        "#string is a sequence of multiple characters where each charcter is accessible or printable"
      ]
    },
    {
      "cell_type": "code",
      "execution_count": null,
      "metadata": {
        "id": "rPqvfQDzqW4l"
      },
      "outputs": [],
      "source": [
        "#How can we access charcters in string?\n",
        "#By using indexing and slicing operator"
      ]
    },
    {
      "cell_type": "code",
      "execution_count": null,
      "metadata": {
        "id": "uIn_sTd0rAd4"
      },
      "outputs": [],
      "source": [
        "#what is slicing?\n",
        "#getting a range of characters from the string\n",
        "#slicing operator is denoted with----> []"
      ]
    },
    {
      "cell_type": "code",
      "execution_count": null,
      "metadata": {
        "id": "6QufZEqprSDz",
        "colab": {
          "base_uri": "https://localhost:8080/"
        },
        "outputId": "63060215-8b4f-4e1c-fdd2-9eef44139d0d"
      },
      "outputs": [
        {
          "output_type": "stream",
          "name": "stdout",
          "text": [
            "r\n"
          ]
        }
      ],
      "source": [
        "#[index_position number]\n",
        "a = \"Hello world!\"\n",
        "#print 'r' from the above string\n",
        "print(a[8])"
      ]
    },
    {
      "cell_type": "code",
      "execution_count": null,
      "metadata": {
        "id": "fuWisO77rlV9",
        "colab": {
          "base_uri": "https://localhost:8080/"
        },
        "outputId": "d062cea4-81a5-4b99-91fd-8e63a3827e45"
      },
      "outputs": [
        {
          "output_type": "stream",
          "name": "stdout",
          "text": [
            "Hello \n"
          ]
        }
      ],
      "source": [
        "#[start:end_index]----> end is always -->n+1\n",
        "print(a[0:6])"
      ]
    },
    {
      "cell_type": "code",
      "execution_count": null,
      "metadata": {
        "id": "MUenCCgysBAX",
        "colab": {
          "base_uri": "https://localhost:8080/"
        },
        "outputId": "55a83711-88a6-46a6-ee92-7752c48c5e03"
      },
      "outputs": [
        {
          "output_type": "stream",
          "name": "stdout",
          "text": [
            "Hlowrd\n",
            "el ol!\n"
          ]
        }
      ],
      "source": [
        "#print the even index position of the string characters\n",
        "#[start:end:step]\n",
        "print(a[0:12:2])\n",
        "#print the odd index position characters?\n",
        "#print(a[0:12:1])\n",
        "print(a[1:12:2])"
      ]
    },
    {
      "cell_type": "code",
      "execution_count": null,
      "metadata": {
        "id": "5WuXdCvrtWm0",
        "colab": {
          "base_uri": "https://localhost:8080/"
        },
        "outputId": "1dab3c92-9390-4b25-c5a6-97ba3bf3a613"
      },
      "outputs": [
        {
          "output_type": "stream",
          "name": "stdout",
          "text": [
            "12\n"
          ]
        }
      ],
      "source": [
        "#How can we find the len() of string?\n",
        "#by using len() -->counts the total number of characters in the string\n",
        "print(len(a))"
      ]
    },
    {
      "cell_type": "code",
      "execution_count": null,
      "metadata": {
        "id": "4GYLB6Waut_V",
        "colab": {
          "base_uri": "https://localhost:8080/"
        },
        "outputId": "09aa43fd-b69b-47c8-9e6d-466ef7111cb7"
      },
      "outputs": [
        {
          "output_type": "stream",
          "name": "stdout",
          "text": [
            "11\n",
            "!\n"
          ]
        }
      ],
      "source": [
        "#print  or access the last character from the string?\n",
        "#find the index position of last character?\n",
        "print(len(a)-1)\n",
        "print(a[11])"
      ]
    },
    {
      "cell_type": "markdown",
      "metadata": {
        "id": "3SxgSor0utX6"
      },
      "source": [
        "**Negative Indexing**"
      ]
    },
    {
      "cell_type": "code",
      "execution_count": null,
      "metadata": {
        "id": "q09B_2USvnC6",
        "colab": {
          "base_uri": "https://localhost:8080/"
        },
        "outputId": "0477766e-beb2-4b5c-ba95-e18bb1a28577"
      },
      "outputs": [
        {
          "output_type": "stream",
          "name": "stdout",
          "text": [
            "!dlroW\n"
          ]
        }
      ],
      "source": [
        "#what is negative indexing?\n",
        "#accessing the elements from reverse direction is know as negative indexing\n",
        "#Negative indexing starts from -1\n",
        "b = \"Hello World!\"\n",
        "#print(b[-1])\n",
        "#can we print a range of charcetrs in reverse by suing -ve indexing\n",
        "#slicng is by default from left right direction\n",
        "print(b[-1:-7:-1])"
      ]
    },
    {
      "cell_type": "code",
      "execution_count": null,
      "metadata": {
        "id": "TbQx3knMyNf3",
        "colab": {
          "base_uri": "https://localhost:8080/"
        },
        "outputId": "a1e9dc31-abe5-4880-bf62-fa122e40fa8d"
      },
      "outputs": [
        {
          "output_type": "stream",
          "name": "stdout",
          "text": [
            "lo World\n"
          ]
        }
      ],
      "source": [
        "print(b[-9:-1])"
      ]
    },
    {
      "cell_type": "markdown",
      "metadata": {
        "id": "HhyeDVOGy8pH"
      },
      "source": [
        "**default indexing**"
      ]
    },
    {
      "cell_type": "code",
      "execution_count": null,
      "metadata": {
        "id": "P9o8Zw3qzEx4",
        "colab": {
          "base_uri": "https://localhost:8080/"
        },
        "outputId": "1ac90e00-5217-4043-bb35-3e6b8e9b911e"
      },
      "outputs": [
        {
          "output_type": "stream",
          "name": "stdout",
          "text": [
            "Hello World!\n",
            "Hello World!\n"
          ]
        }
      ],
      "source": [
        "c = \"Hello World!\"\n",
        "print(c[:])\n",
        "#By default [start can be 0:end is len(str)]\n",
        "#[start:end:step]\n",
        "#[0:len(str):1]\n",
        "print(c[::])"
      ]
    },
    {
      "cell_type": "code",
      "execution_count": null,
      "metadata": {
        "id": "QF41XtqUzudJ",
        "colab": {
          "base_uri": "https://localhost:8080/"
        },
        "outputId": "164015ce-e288-41f5-8933-72df9660d546"
      },
      "outputs": [
        {
          "output_type": "stream",
          "name": "stdout",
          "text": [
            "Hlowrd\n",
            "HloWrd\n",
            "el ol!\n",
            "el ol!\n"
          ]
        }
      ],
      "source": [
        "#print the even characters from entire string\n",
        "print(a[0:12:2])\n",
        "print(c[::2])\n",
        "print(a[1:12:2]) #odd position\n",
        "print(c[1::2])"
      ]
    },
    {
      "cell_type": "code",
      "execution_count": null,
      "metadata": {
        "id": "_TV0eC0V0J05"
      },
      "outputs": [],
      "source": [
        "#reverse \"Hello world!\"\n",
        "print(c[::1])\n",
        "print(c[::-1])"
      ]
    },
    {
      "cell_type": "code",
      "execution_count": null,
      "metadata": {
        "id": "rxppWnUT0buJ"
      },
      "outputs": [],
      "source": [
        "#print the string is palindrome or not\n",
        "#mom, madam, hyderabad, malayalam\n",
        "a = input(\"enter your string: \")\n",
        "print(a[::-1])"
      ]
    },
    {
      "cell_type": "code",
      "execution_count": null,
      "metadata": {
        "id": "0Pgxliqb1IS9"
      },
      "outputs": [],
      "source": [
        "print(c[0:5])\n",
        "print(c[0:5][1:2])"
      ]
    },
    {
      "cell_type": "code",
      "execution_count": null,
      "metadata": {
        "id": "P4fYsdAu4z68"
      },
      "outputs": [],
      "source": [
        "a = \"Hello world!\"\n",
        "print(a[-1:-6:1])"
      ]
    },
    {
      "cell_type": "markdown",
      "metadata": {
        "id": "TrLLSSLV5PII"
      },
      "source": [
        "**string methods**"
      ]
    },
    {
      "cell_type": "code",
      "execution_count": null,
      "metadata": {
        "id": "FkEoUl-K54Jr"
      },
      "outputs": [],
      "source": [
        "#The methods that can be applied on the string is know as string methods\n",
        "#what are methods we can apply on string?\n",
        "#By using 'dir()' we can find out what are all methods we can apply on strings\n",
        "d = \"hello world!\"\n",
        "print(type(d))\n",
        "print(dir(d))"
      ]
    },
    {
      "cell_type": "code",
      "execution_count": null,
      "metadata": {
        "id": "kHKRSo0e6eYL"
      },
      "outputs": [],
      "source": [
        "\"\"\" 'capitalize', 'casefold', 'center', 'count', 'encode', 'endswith',\n",
        "'expandtabs', 'find', 'format', 'format_map', 'index', 'isalnum',\n",
        "'isalpha', 'isascii', 'isdecimal', 'isdigit', 'isidentifier',\n",
        "'islower', 'isnumeric', 'isprintable', 'isspace', 'istitle',\n",
        " 'isupper', 'join', 'ljust', 'lower', 'lstrip', 'maketrans',\n",
        " 'partition', 'removeprefix', 'removesuffix', 'replace',\n",
        "'rfind', 'rindex', 'rjust', 'rpartition', 'rsplit', 'rstrip',\n",
        "'split', 'splitlines', 'startswith', 'strip', 'swapcase', 'title', 'translate', 'upper', 'zfill' \"\"\""
      ]
    },
    {
      "cell_type": "code",
      "execution_count": null,
      "metadata": {
        "id": "WxncS1fY6nGU"
      },
      "outputs": [],
      "source": [
        "#upper and lower()\n",
        "print(d.lower())\n",
        "print(d.upper())"
      ]
    },
    {
      "cell_type": "code",
      "execution_count": null,
      "metadata": {
        "id": "tK7znYjr6xK0"
      },
      "outputs": [],
      "source": [
        "#capitalize\n",
        "print(d.capitalize())"
      ]
    },
    {
      "cell_type": "code",
      "execution_count": null,
      "metadata": {
        "id": "mCRg_MMV63nL"
      },
      "outputs": [],
      "source": [
        "#Title\n",
        "print(d.title())"
      ]
    },
    {
      "cell_type": "code",
      "execution_count": null,
      "metadata": {
        "id": "3cArC_ex7Bet"
      },
      "outputs": [],
      "source": [
        "#replace('old strind', 'newstring')\n",
        "#in Hello world replace the \"world\" with universe\n",
        "print(d.replace('world','universe'))"
      ]
    },
    {
      "cell_type": "markdown",
      "metadata": {
        "id": "EQA_Ok5xg0Vp"
      },
      "source": [
        "**18-12-2024**\n",
        "\n",
        "**Conditional Statements**"
      ]
    },
    {
      "cell_type": "code",
      "execution_count": null,
      "metadata": {
        "id": "0LCnSxNgg8jx"
      },
      "outputs": [],
      "source": [
        "#what is purpose of of conditional statement?\n",
        "#The purpose conditional statement is to check weather the condition is true or false\n",
        "#what are all conditional statements do we have in python?\n",
        "# 1)if\n",
        "# 2)elif\n",
        "# 3)else"
      ]
    },
    {
      "cell_type": "code",
      "execution_count": null,
      "metadata": {
        "id": "e6j10vBthZ8u"
      },
      "outputs": [],
      "source": [
        "#How we are going to check the condition?\n",
        "#By using the relational operators or comaprision operators\n",
        "#There 6 types of comparison operators\n",
        "\"\"\" 1. equals to ---> ==\n",
        "    2. Not equals to---> !=\n",
        "    3. greater than -->   >\n",
        "    4. less than --->     <\n",
        "    5. greater than equal to---> >=\n",
        "    6. less than equal to----> <=  \"\"\""
      ]
    },
    {
      "cell_type": "code",
      "execution_count": null,
      "metadata": {
        "id": "PVM6JjoTiKl_"
      },
      "outputs": [],
      "source": [
        "#write a python program to print the student is pass or fail?\n",
        "a = int(input(\"enter your marks: \"))\n",
        "if a>=45:\n",
        "  print(\"congrats you are pass\")\n",
        "  print(\"you have recived\",a)\n",
        "else:\n",
        "  print(\"Better luck next time\")\n",
        "  print(\"you have recived\", a)"
      ]
    },
    {
      "cell_type": "code",
      "execution_count": null,
      "metadata": {
        "id": "0bXkk5tdkaAM"
      },
      "outputs": [],
      "source": [
        "#write program to print weather the given number is +ve, or -ve if it is 0 means print neutral\n",
        "#if --->elif-->else\n",
        "b = int(input(\"enter the number\"))\n",
        "if b >0:\n",
        "  print(\"+ve\")\n",
        "elif b == 0:\n",
        "  print(\"neutral\")\n",
        "else:\n",
        "  print(\"-ve\")"
      ]
    },
    {
      "cell_type": "markdown",
      "metadata": {
        "id": "UVhrinYsna_C"
      },
      "source": [
        "**Logical Operatprs**"
      ]
    },
    {
      "cell_type": "code",
      "execution_count": null,
      "metadata": {
        "id": "U-4r9WQRndkv"
      },
      "outputs": [],
      "source": [
        "#1. AND:- when all the conditions are true then only the program can be executed\n",
        "#2. Or:- if any one condition is satisfied the program can be executed\n",
        "#3. Not:- it reverse your actual output\n",
        "a = 40\n",
        "b = 20\n",
        "c = 100\n",
        "d = 15\n",
        "#check that a is greater than  b and b > d and c > a\n",
        "#if conditions satisfied print all the conditions satisfied\n",
        "if a>b and b>d and c<a:\n",
        "  print('all the conditions satisfied')\n",
        "else:\n",
        "  print('any one condition is satisfied')"
      ]
    },
    {
      "cell_type": "code",
      "execution_count": null,
      "metadata": {
        "id": "9DNRcibYpnP3"
      },
      "outputs": [],
      "source": [
        "print(10 == 10)\n",
        "print(10 != 10)\n",
        "print(10 > 10)\n",
        "print(10 < 10)\n",
        "print(10 >= 10)\n",
        "print(10 <= 10)"
      ]
    },
    {
      "cell_type": "code",
      "execution_count": null,
      "metadata": {
        "id": "ENO74UfMrQ4r"
      },
      "outputs": [],
      "source": [
        "a = 40\n",
        "b = 20\n",
        "c = 100\n",
        "d = 15\n",
        "#check that a is less than  b and b < d and c > a\n",
        "#if conditions satisfied print  the conditions satisfied\n",
        "if a<b and b<d and c>a:\n",
        "  print('the conditions satisfied')\n",
        "else:\n",
        "  print('all the condition is not satisfied')"
      ]
    },
    {
      "cell_type": "code",
      "execution_count": null,
      "metadata": {
        "id": "y77R9tfLr7tp"
      },
      "outputs": [],
      "source": [
        "print(10 == 10)\n",
        "print(not(10 == 10))"
      ]
    },
    {
      "cell_type": "code",
      "execution_count": null,
      "metadata": {
        "id": "EJeQEN4Ks-wx"
      },
      "outputs": [],
      "source": [
        "#write a program to print the user is eligible for adventure ride or not\n",
        "# if the age is less than 12 print(\"your not eligible and check for other rides\")\n",
        "# if age is between 12 to 45 print(\"your eligible for ride\")\n",
        "# if age is more than 40 print(\"look for another ride it is too risky\")\n",
        "# else you can print your not eligible to the ride"
      ]
    },
    {
      "cell_type": "markdown",
      "metadata": {
        "id": "XScZ4RzDut5Z"
      },
      "source": [
        "**Nested conditions**"
      ]
    },
    {
      "cell_type": "code",
      "execution_count": null,
      "metadata": {
        "id": "FRZplZEmuwl9"
      },
      "outputs": [],
      "source": [
        "#what is nested condition and what is the purpose of nested condition?\n",
        "#writing a condition inside the another condition is known as nested condition\n",
        "#writing a if condition inside the another if condition is known as nested condition\n",
        "#check up to what extend the 45 is gretaer than 10 20 30\n",
        "a = 5\n",
        "if a> 10:\n",
        "  print(\"a is greater than 10\")\n",
        "  if a>20:\n",
        "    print(\"a is greater than 20\")\n",
        "    if a>30:\n",
        "      print(\"a is greater than 30\")\n",
        "      if a>40:\n",
        "        print(\"a is greater than 40\")\n",
        "        if a>50:\n",
        "          print(\"a is greater than  50\")\n",
        "        else:\n",
        "          print(\"a is less than 50\")\n",
        "      else:\n",
        "        print(\"less than 40\")\n",
        "    else:\n",
        "      print(\" ais less than 30\")\n",
        "  else:\n",
        "    print(\"a is less than 20\")\n",
        "else:\n",
        "  print(\"a is less than 10\")"
      ]
    },
    {
      "cell_type": "markdown",
      "metadata": {
        "id": "NxSAjcictuc2"
      },
      "source": [
        "**19-12-2024**"
      ]
    },
    {
      "cell_type": "code",
      "execution_count": null,
      "metadata": {
        "id": "bISd0qGAx4wc"
      },
      "outputs": [],
      "source": [
        "#pass:- is an null place holder when you executes nothing will happen\n",
        "#check the given number is even or odd?\n",
        "a = int(input(\"enter the number:\"))\n",
        "if a%2==0:\n",
        "  print('even')\n",
        "else:\n",
        "  pass"
      ]
    },
    {
      "cell_type": "markdown",
      "metadata": {
        "id": "mSvSIotZwANU"
      },
      "source": [
        "#Revision\n",
        "\n",
        "1. What is Python?\n",
        "\n",
        "most emerging ,genral purpose, highlevel fynamically typed , OOP's, interpreted programming language\n",
        "\n",
        "2. why comments are important?\n",
        "\n",
        "for better understanding purpose we use comment\n",
        "\n",
        "there 2 types of comments\n",
        "\n",
        "1. single line comment----> #\n",
        "2. multiline comment--->  \"\"\" \"\"\" or ''' '''\n",
        "\n",
        "3. how many types of numerical dtypes?\n",
        "\n",
        "     1. integer\n",
        "     2. float\n",
        "     3. complex number--->    2+5j\n",
        "\n",
        "4. arthametic operators---> 7types\n",
        "\n",
        "   --> +,-,*,/,%,**(exponenetial or tothe power off),//(floor division)\n",
        "\n",
        "5. round()--->round() can be applicable for decimal number or float data types\n",
        "\n",
        "6. Variable--> is acontiner where we can store our valuable information\n",
        "\n",
        "      -->Rules\n",
        "\n",
        "\n",
        " 7. INPUT():- is a inbuilt function used to store any kind of information from user\n",
        "\n",
        "         --> the default dtype of input is string\n",
        "\n",
        "\n",
        " 8. what is an string?\n",
        "\n",
        "         --> string is sequence of characters where each character can be accessible   \n",
        "         how can we access the characters?\n",
        "         --> By using indexing and slicing operator---> []\n",
        "         what is indexing?\n",
        "         --> positional number of each character\n",
        "         --> string is ordered--> the characters is having the\n",
        "         sequence of index position numbers\n",
        "\n",
        "  9. what is an object oriented programming language?--->oop's\n",
        "\n",
        "--> In python each line of code is having its own \"identity\",\"properties\", \"methods of interaction\"          \n",
        "\n"
      ]
    },
    {
      "cell_type": "code",
      "execution_count": null,
      "metadata": {
        "id": "cwdrQtRcv_ri"
      },
      "outputs": [],
      "source": [
        "print(10/3)\n",
        "print(10//3)"
      ]
    },
    {
      "cell_type": "code",
      "execution_count": null,
      "metadata": {
        "id": "a4e7LJqZyfK1"
      },
      "outputs": [],
      "source": [
        "print(round(3.554789,2))\n",
        "#the count decimal numbers after the decimal point is known as ndigits"
      ]
    },
    {
      "cell_type": "code",
      "execution_count": null,
      "metadata": {
        "id": "sBGf-cRCzB7a"
      },
      "outputs": [],
      "source": [
        "_ = \"hel36346573@%43lo\""
      ]
    },
    {
      "cell_type": "code",
      "execution_count": null,
      "metadata": {
        "id": "QLofKI5DzzXG"
      },
      "outputs": [],
      "source": [
        "a = input(\"enter number: \")\n",
        "print(a)\n",
        "print(type(a))"
      ]
    },
    {
      "cell_type": "code",
      "execution_count": null,
      "metadata": {
        "id": "iWknyNLy0pdl"
      },
      "outputs": [],
      "source": [
        "a = \"Hello\"\n",
        "print(a[4])\n",
        "print(a[-1])\n",
        "print(dir(a))\n",
        "print(a.lower())\n",
        "print(a.upper())\n",
        "print(a.replace('Hello','Hi'))"
      ]
    },
    {
      "cell_type": "markdown",
      "metadata": {
        "id": "Dams3Oi72ovE"
      },
      "source": [
        "**String Formatting method**"
      ]
    },
    {
      "cell_type": "code",
      "execution_count": null,
      "metadata": {
        "id": "yNNRELbN2tiz"
      },
      "outputs": [],
      "source": [
        "#what is a string formatting method?\n",
        "#it takes an argument and place over place-holder-->{}\n",
        "age = 10\n",
        "txt = f\"I am {age} years old\"  #f'string formatting {method}'\n",
        "print(txt)"
      ]
    },
    {
      "cell_type": "code",
      "execution_count": null,
      "metadata": {
        "id": "NPQ-QJyS3S56"
      },
      "outputs": [],
      "source": [
        "item = input(\"enter item name: \")\n",
        "price_each = int(input(\"enter price: \"))\n",
        "quantity = int(input(\"enter the total quantity \"))\n",
        "Notification = f\"your order for {item}, has been confirmed, with an quantity of {quantity} and Total price {price_each*quantity}\"\n",
        "print(Notification)"
      ]
    },
    {
      "cell_type": "markdown",
      "metadata": {
        "id": "YtRZ0DKQ6gp5"
      },
      "source": [
        "**escape characters**"
      ]
    },
    {
      "cell_type": "code",
      "execution_count": null,
      "metadata": {
        "id": "5ushUVTM6i6P"
      },
      "outputs": [],
      "source": [
        "#when we want to print illegal characters (\" \" or  ' ') along with the string we use escape characters\n",
        "#escape characters can be decalred in backward slash (\\)\n",
        "a = \"Dywane \\\"The Rock\\\" Johnson\"\n",
        "print(a)"
      ]
    },
    {
      "cell_type": "code",
      "execution_count": null,
      "metadata": {
        "id": "Awrc0Q3YU7ji"
      },
      "outputs": [],
      "source": [
        "son2age = 10"
      ]
    },
    {
      "cell_type": "code",
      "execution_count": null,
      "metadata": {
        "id": "Gu_TlufQV4hg"
      },
      "outputs": [],
      "source": [
        "user_input = input(\"Enter a number: \");\n",
        "print(\"You entered: \", int(user_input))\n"
      ]
    },
    {
      "cell_type": "code",
      "execution_count": null,
      "metadata": {
        "id": "zKF9AnWQWjnz"
      },
      "outputs": [],
      "source": [
        "\n",
        "#What will be printed when the following executes?\n",
        "str = \"His shirt is red\"\n",
        "pos = str.find(\"is\")\n",
        "print(pos)"
      ]
    },
    {
      "cell_type": "markdown",
      "metadata": {
        "id": "HsQSa8PoaNml"
      },
      "source": [
        "**24-12-2024**"
      ]
    },
    {
      "cell_type": "markdown",
      "metadata": {
        "id": "ipyoLQVgcS6P"
      },
      "source": [
        "**loops**"
      ]
    },
    {
      "cell_type": "code",
      "execution_count": null,
      "metadata": {
        "id": "hcpcvhuoaVWE"
      },
      "outputs": [],
      "source": [
        "#what is loop?\n",
        "# loop is defined as a set of instruction or a set of rules\n",
        "#what is main purpose of loops?\n",
        "# main purpose of loops is to avoid writing duplicate codes.\n",
        "#Howmany types of codes do we have?\n",
        "#2types\n",
        "#1.WET Codes--> means -->w:write e:everything t:twice\n",
        "#2.DRY Codes--> means --> d:Don't r:repeat y:yourself\n",
        "# so loops encourages you to write the DRY codes"
      ]
    },
    {
      "cell_type": "code",
      "execution_count": null,
      "metadata": {
        "id": "y26LZs0xdjk9"
      },
      "outputs": [],
      "source": [
        "#how many types of loops?\n",
        "#there are 2types of loops\n",
        "#1. while loop\n",
        "#2. for loop\n",
        "#why we don't have do-while loop in python because python is ahigh-level programming language\n",
        "#Both while & dowhile can have same working functionality"
      ]
    },
    {
      "cell_type": "markdown",
      "metadata": {
        "id": "2XAtIMiwfB_T"
      },
      "source": [
        "**WHILE LOOP**"
      ]
    },
    {
      "cell_type": "code",
      "execution_count": null,
      "metadata": {
        "id": "zQiq141HfFSl"
      },
      "outputs": [],
      "source": [
        "#WHAT IS A While loop?\n",
        "#While loop runs a set of instructions untile the condition remains true\n",
        "intial = 1\n",
        "target = 5\n",
        "while intial <= target:\n",
        "  print(\"go up\")\n",
        "  print(\"go down\")\n",
        "  print(\"=======rep complted====\")\n",
        "  print(intial)\n",
        "  intial = intial + 1"
      ]
    },
    {
      "cell_type": "code",
      "execution_count": null,
      "metadata": {
        "id": "tOW2AYbjgQC3"
      },
      "outputs": [],
      "source": [
        "print(1 <= 5)\n",
        "print(2 <= 5)\n",
        "print(3 <= 5)\n",
        "print(4 <= 5)\n",
        "print(5 <= 5)\n",
        "print(6 <= 5)"
      ]
    },
    {
      "cell_type": "code",
      "execution_count": null,
      "metadata": {
        "id": "m5t4M2YBkH2p"
      },
      "outputs": [],
      "source": [
        "#write simple program to run a lift? if the user giveing 4th floor stop at floor 4\n",
        "intial = 1\n",
        "target = int(input(\"enter your floor no:  \"))\n",
        "while intial <= target:\n",
        "  print(f'you are at {intial} floor')\n",
        "  intial = intial + 1"
      ]
    },
    {
      "cell_type": "code",
      "execution_count": null,
      "metadata": {
        "id": "UAvYHcBImISx"
      },
      "outputs": [],
      "source": [
        "a = [1,2,3,4,5,6]\n",
        "#in above list print the multiples of 2\n",
        "#2,4,6,8,10,12"
      ]
    },
    {
      "cell_type": "markdown",
      "metadata": {
        "id": "-wCkvh9xmm70"
      },
      "source": [
        "**for loop**"
      ]
    },
    {
      "cell_type": "code",
      "execution_count": null,
      "metadata": {
        "id": "Y-tTHGujmou3"
      },
      "outputs": [],
      "source": [
        "#what is for loop?\n",
        "#for loop runs a set of instructions or rules over each and every elemnt in the collection\n",
        "a = [1,2,3,4,5,6]\n",
        "for i in a:\n",
        "  print(i*2, end=\",\")"
      ]
    },
    {
      "cell_type": "markdown",
      "metadata": {
        "id": "Bx894PsFq--v"
      },
      "source": [
        "**break**:- it breaks the loop irrespective of items in the collection"
      ]
    },
    {
      "cell_type": "code",
      "execution_count": null,
      "metadata": {
        "id": "IKp4GCg6oRfe"
      },
      "outputs": [],
      "source": [
        "h = [1,2,3,4,5,6,7,8,9,12,13,15,17,19,14,17,23,24,23,26,78,54,34,562,5234,]\n",
        "#print the items before 13\n",
        "for i in h:\n",
        "  if i == 13 or i == 562:\n",
        "    break\n",
        "  print(i,end=\",\")"
      ]
    },
    {
      "cell_type": "markdown",
      "metadata": {
        "id": "vaF9jeH7rSVc"
      },
      "source": [
        "**continue**--> skips the current loop"
      ]
    },
    {
      "cell_type": "code",
      "execution_count": null,
      "metadata": {
        "id": "PwxDZS4pqo_d"
      },
      "outputs": [],
      "source": [
        "for j in h:\n",
        "  if j == 562 or j == 5234 or j == 12 or j == 15:\n",
        "    continue\n",
        "  print(j,end = \" \")"
      ]
    },
    {
      "cell_type": "code",
      "execution_count": null,
      "metadata": {
        "id": "xVk7efIhsIuB"
      },
      "outputs": [],
      "source": [
        "#can we break a loop at multiple points--> No\n",
        "#can we skip multiple iterations at a time---> yes"
      ]
    },
    {
      "cell_type": "markdown",
      "metadata": {
        "id": "JIm2ewSSQK1z"
      },
      "source": [
        "25-12-2024\n",
        "\n",
        "**Range()**"
      ]
    },
    {
      "cell_type": "code",
      "execution_count": null,
      "metadata": {
        "id": "ZEavnA1QQYqQ"
      },
      "outputs": [],
      "source": [
        "#what is range()?\n",
        "#it is a inbuilt function used to print range of numbers\n",
        "for i in range(10):\n",
        "  print(i,end = \",\") #end act as a delimeter which means it separates each data item with some characters"
      ]
    },
    {
      "cell_type": "code",
      "execution_count": null,
      "metadata": {
        "id": "yF1kuPQjQEvr"
      },
      "outputs": [],
      "source": [
        "#print the range of numbers start from 1 to 20\n",
        "#range(start,end)--> end is always n+1\n",
        "for h in range(1,21):\n",
        "  print(h,end=\" \")"
      ]
    },
    {
      "cell_type": "code",
      "execution_count": null,
      "metadata": {
        "id": "-Rd0amCXRsWf"
      },
      "outputs": [],
      "source": [
        "#print the range of even numbers from 20 to 100\n",
        "#range(start,end,step)\n",
        "for i in range(21,101,2):\n",
        "  print(i,end=\" \")"
      ]
    },
    {
      "cell_type": "code",
      "execution_count": null,
      "metadata": {
        "id": "JKK7a0xwPssm"
      },
      "outputs": [],
      "source": [
        "#calculate the sum of numbers from 1 to 10 by using loops?\n",
        "sum = 0\n",
        "for i in range(1,11):\n",
        "  sum = sum + i\n",
        "print(i)"
      ]
    },
    {
      "cell_type": "code",
      "execution_count": null,
      "metadata": {
        "id": "xarW9cYEUDny"
      },
      "outputs": [],
      "source": [
        "#2.print the numbers in reverse from 10 to 1 by using the loops?\n",
        "for i in range(10,0,-1):\n",
        "  print(i,end=\" \")"
      ]
    },
    {
      "cell_type": "code",
      "execution_count": null,
      "metadata": {
        "id": "dgi3lAcyUtIX"
      },
      "outputs": [],
      "source": [
        "#3. print the string characters by using the loops in separate line?\n",
        "h = \"Hello World!\"\n",
        "for i in h:\n",
        "  print(i)"
      ]
    },
    {
      "cell_type": "code",
      "execution_count": null,
      "metadata": {
        "id": "oA_k4oL7Vj8a"
      },
      "outputs": [],
      "source": [
        "#4.print all upper case letters in a string using a for loop?\n",
        "string = \"Hello World\"\n",
        "for i in string:\n",
        "  print(i.upper(),end=\"\")\n"
      ]
    },
    {
      "cell_type": "code",
      "execution_count": null,
      "metadata": {
        "id": "PmGvh-duWNeD"
      },
      "outputs": [],
      "source": [
        "#5.Count the number of vowerls in a string?\n",
        "d = \"Hello World\"\n",
        "vowels = \"AEIOUaeiou\"\n",
        "count = 0 #store the count of vowels\n",
        "for i in d:\n",
        "  if i in vowels:\n",
        "    count = count + 1\n",
        "print(count)"
      ]
    },
    {
      "cell_type": "code",
      "execution_count": null,
      "metadata": {
        "id": "UmlNjn2DXtXu"
      },
      "outputs": [],
      "source": [
        "#6.print a pattern of stars * using the nested for loop?\n",
        "for i in range(5):   #length of i is 5\n",
        "  #print('*',end=\" \")\n",
        "  for j in range(i+1): #this will help you print the \"*\" in increasing order\n",
        "    print(\"*\",end=\"\")\n",
        "  print()\n"
      ]
    },
    {
      "cell_type": "code",
      "execution_count": null,
      "metadata": {
        "id": "mdfvK2fbaSLU"
      },
      "outputs": [],
      "source": [
        "#7.find the factorials of the numbers?\n",
        "# 5-->     1*2*3*4*5\n",
        "#both for loop and while\n",
        "fact = 1\n",
        "for i in range(1,6):\n",
        "  fact = fact * i\n",
        "  print(fact)"
      ]
    },
    {
      "cell_type": "code",
      "execution_count": null,
      "metadata": {
        "id": "K0VndgJ7bDkQ"
      },
      "outputs": [],
      "source": [
        "start = 1\n",
        "sum = 0\n",
        "while start <= 10:\n",
        "  sum = sum +start\n",
        "  start = start + 1\n",
        "print(sum)"
      ]
    },
    {
      "cell_type": "markdown",
      "metadata": {
        "id": "vE9e8NrtifP0"
      },
      "source": [
        "#Collection"
      ]
    },
    {
      "cell_type": "code",
      "execution_count": null,
      "metadata": {
        "id": "EXywu4m-ih0i"
      },
      "outputs": [],
      "source": [
        "#How many types of collections?\n",
        "# 4types\n",
        "#1. list\n",
        "#2. tuple\n",
        "#3. set\n",
        "#4. dictionary"
      ]
    },
    {
      "cell_type": "code",
      "execution_count": null,
      "metadata": {
        "id": "CWMfBbc8i9xn"
      },
      "outputs": [],
      "source": [
        "#collection store two types of data\n",
        "#1. Homogenous data\n",
        "#2. Heterogenous data\n",
        "#what is homogenous collection?\n",
        "#collection of same data types is known as homogenous data\n",
        "#what is heterogenous data?\n",
        "#collection of multiple dtypes is known as heterogenous data"
      ]
    },
    {
      "cell_type": "markdown",
      "metadata": {
        "id": "L5ASm9GHjbH-"
      },
      "source": [
        "**LIST**"
      ]
    },
    {
      "cell_type": "code",
      "execution_count": null,
      "metadata": {
        "id": "w9rnXVuyjdCa"
      },
      "outputs": [],
      "source": [
        "#what is a list and how can we decalre a list? or Define a list?\n",
        "#list --->[]\n",
        "#list is defined as ordered, muttable(changable), and it allows the duplicate data"
      ]
    },
    {
      "cell_type": "markdown",
      "metadata": {
        "id": "7O7p_tVLkZFM"
      },
      "source": [
        "**allows the duplicate data**"
      ]
    },
    {
      "cell_type": "code",
      "execution_count": null,
      "metadata": {
        "id": "vL28ZQvzkafm"
      },
      "outputs": [],
      "source": [
        "l1 = ['python','java','Dot Net','C++',\"C\",\"R\",'python','java','NodeJS']\n",
        "print(len(l1))\n",
        "print(l1)"
      ]
    },
    {
      "cell_type": "markdown",
      "metadata": {
        "id": "GaX809bwk5Zp"
      },
      "source": [
        "**list is ordered**"
      ]
    },
    {
      "cell_type": "code",
      "execution_count": null,
      "metadata": {
        "id": "qegNUVelk9CC"
      },
      "outputs": [],
      "source": [
        "l1 = ['python','java','Dot Net','C++',\"C\",\"R\",'python','java','NodeJS']\n",
        "#what is ordered?\n",
        "#if the items in the collection is having a sequence of index position numbers then the collection is ordered"
      ]
    },
    {
      "cell_type": "code",
      "execution_count": null,
      "metadata": {
        "id": "RU5Gvvf6lNZE"
      },
      "outputs": [],
      "source": [
        "#[start]\n",
        "#print \"Dot Net\" from above list\n",
        "print(l1[2])\n",
        "#[start:end] #end is always n+1\n",
        "#print the 'C++',\"C\",\"R\"\n",
        "print(l1[3:6])\n",
        "#print the even index position characters\n",
        "#[start:end:step]\n",
        "print(l1[0:10:2])"
      ]
    },
    {
      "cell_type": "code",
      "execution_count": null,
      "metadata": {
        "id": "CDm504TGmOao"
      },
      "outputs": [],
      "source": [
        "#print the last character of the above string\n",
        "print(l1[-1])\n",
        "#print a range of characters by using -ve indexing\n",
        "print(l1[-4:-8:-1])"
      ]
    },
    {
      "cell_type": "code",
      "execution_count": null,
      "metadata": {
        "id": "TwIVCoocmx4U"
      },
      "outputs": [],
      "source": [
        "print(l1[::2])\n",
        "#reverse the entire list\n",
        "print(l1[::-1])"
      ]
    },
    {
      "cell_type": "markdown",
      "metadata": {
        "id": "_M6RPmrRomhm"
      },
      "source": [
        "**List is Muttable**\n",
        "\n",
        "muttable means collection has to follow 3 properties\n",
        "1. replace or swap the items\n",
        "2. add new items\n",
        "3. remove the items"
      ]
    },
    {
      "cell_type": "markdown",
      "metadata": {
        "id": "sT_d_2U4pFY9"
      },
      "source": [
        "*replace or swap the items*"
      ]
    },
    {
      "cell_type": "code",
      "execution_count": null,
      "metadata": {
        "id": "oNkpuOKupDWu"
      },
      "outputs": [],
      "source": [
        "#how can replace the items in list?\n",
        "#by using the index position numbers\n",
        "l2 = ['apple','banana','kiwi','mango','orange','apple']\n",
        "#above list replace kiwi with watermelon\n",
        "l2[2] = 'watermelon'\n",
        "print(l2)\n"
      ]
    },
    {
      "cell_type": "code",
      "execution_count": null,
      "metadata": {
        "id": "TJSZMTLKpsKR"
      },
      "outputs": [],
      "source": [
        "#replace \"banana', 'watermelon', 'mango' with kiwi,lemon,grapes\"\n",
        "l2[1:4] = \"kiwi\",\"lemon\",\"grapes\"\n",
        "print(l2)"
      ]
    },
    {
      "cell_type": "markdown",
      "metadata": {
        "id": "Bt-bS5gRqIXb"
      },
      "source": [
        "*Add the items to list*"
      ]
    },
    {
      "cell_type": "code",
      "execution_count": null,
      "metadata": {
        "id": "z1gOgsuIqNCj"
      },
      "outputs": [],
      "source": [
        "#dir()\n",
        "print(dir(l2))\n",
        "\"\"\"'append', 'clear', 'copy', 'count', 'extend', 'index', 'insert', 'pop',\n",
        "'remove', 'reverse', 'sort' \"\"\""
      ]
    },
    {
      "cell_type": "code",
      "execution_count": null,
      "metadata": {
        "id": "jT0kVOjRqhSZ"
      },
      "outputs": [],
      "source": [
        "l3 = ['apple', 'kiwi', 'lemon', 'grapes', 'orange', 'apple']\n",
        "#add \"banana\" to l3\n",
        "#append()\n",
        "#what is default index position when you use the append method?\n",
        "#at the end of the list\n",
        "l3.append('banana')\n",
        "print(l3)\n",
        "#Note we cannot add the multiple items by using the append method"
      ]
    },
    {
      "cell_type": "code",
      "execution_count": null,
      "metadata": {
        "id": "Q-4zT_0srCJt"
      },
      "outputs": [],
      "source": [
        "#add the item at particular index position--> use insert(index,item_name)\n",
        "l3.insert(1,'dragon fruit')\n",
        "print(l3)\n",
        "#note:- we cannot add multiple items by using insert()"
      ]
    },
    {
      "cell_type": "code",
      "execution_count": null,
      "metadata": {
        "id": "ZSVU810XrfVa"
      },
      "outputs": [],
      "source": [
        "#if i want to add the multiple items in above list\n",
        "#use 'extend()' by default the items can be added at end index position\n",
        "l4 = [1,2,3,4,5,6]\n",
        "#add the l4 into l3\n",
        "l3.extend(l4)"
      ]
    },
    {
      "cell_type": "code",
      "execution_count": null,
      "metadata": {
        "id": "LhZ1y5qUsHAe"
      },
      "outputs": [],
      "source": [
        "print(l3)"
      ]
    },
    {
      "cell_type": "markdown",
      "metadata": {
        "id": "zVN4PUi9uQC6"
      },
      "source": [
        "**remove items from list**"
      ]
    },
    {
      "cell_type": "code",
      "execution_count": null,
      "metadata": {
        "id": "2pSbX72iuVCH"
      },
      "outputs": [],
      "source": [
        "#1.pop('index') or pop() by defalut remove the end item\n",
        "l5 = ['apple', 'dragon fruit', 'dragon fruit', 'kiwi', 'lemon', 'grapes', 'orange', 'apple', 'banana', 1, 2, 3, 4, 5, 6]\n",
        "l5.pop()\n",
        "print(l5)"
      ]
    },
    {
      "cell_type": "code",
      "execution_count": null,
      "metadata": {
        "id": "12qFz93zunT8"
      },
      "outputs": [],
      "source": [
        "l5.pop(1)   #pop(index_position)\n",
        "print(l5)"
      ]
    },
    {
      "cell_type": "code",
      "execution_count": null,
      "metadata": {
        "id": "5c_lJfJhu0Jj"
      },
      "outputs": [],
      "source": [
        "l5.pop(5)\n",
        "print(l5)"
      ]
    },
    {
      "cell_type": "code",
      "execution_count": null,
      "metadata": {
        "id": "5aBDB_DLvAD8"
      },
      "outputs": [],
      "source": [
        "#remove(item_name)\n",
        "l5.remove('dragon fruit')\n",
        "print(l5)\n",
        "#we cannot remove the multiple items at a time by using reve()"
      ]
    },
    {
      "cell_type": "code",
      "execution_count": null,
      "metadata": {
        "id": "x_nE5cvgvY5m"
      },
      "outputs": [],
      "source": [
        "#del collection_name[start:end]\n",
        "del l5[7:12]\n",
        "print(l5)"
      ]
    },
    {
      "cell_type": "code",
      "execution_count": null,
      "metadata": {
        "id": "5D0MwjRivoUy"
      },
      "outputs": [],
      "source": [
        "#clear the items from the list and print the empty list\n",
        "l5.clear()\n",
        "print(l5)"
      ]
    },
    {
      "cell_type": "code",
      "execution_count": null,
      "metadata": {
        "id": "lk0sveFEvxMY"
      },
      "outputs": [],
      "source": [
        "#delete the entire list\n",
        "del l5\n",
        "print(l5)"
      ]
    },
    {
      "cell_type": "code",
      "execution_count": null,
      "metadata": {
        "id": "lxvwUufExdiW"
      },
      "outputs": [],
      "source": [
        "#reverse a list or sorting of list--> h.w"
      ]
    },
    {
      "cell_type": "markdown",
      "metadata": {
        "id": "05RrD-3gxiwb"
      },
      "source": [
        "**Tuple**"
      ]
    },
    {
      "cell_type": "code",
      "execution_count": null,
      "metadata": {
        "id": "kCHGHUZXxk3c"
      },
      "outputs": [],
      "source": [
        "#what is tuple or define tuple?\n",
        "#Tuple:-()\n",
        "#tuple is defined as 'ordered', immutable, allows the duplicates"
      ]
    },
    {
      "cell_type": "markdown",
      "metadata": {
        "id": "6W5Z7t5Nx272"
      },
      "source": [
        "tuple allows the duplicates"
      ]
    },
    {
      "cell_type": "code",
      "execution_count": null,
      "metadata": {
        "id": "_6TlE6uJx4cU"
      },
      "outputs": [],
      "source": [
        "t1 = ('apple', 'kiwi', 'lemon', 'grapes', 'apple', 'banana')\n",
        "print(t1)\n",
        "print(type(t1))\n",
        "print(len(t1))"
      ]
    },
    {
      "cell_type": "markdown",
      "metadata": {
        "id": "bjDgAeBnyLuU"
      },
      "source": [
        "**tuple is ordered**"
      ]
    },
    {
      "cell_type": "code",
      "execution_count": null,
      "metadata": {
        "id": "VW5ayp7RyK62"
      },
      "outputs": [],
      "source": [
        "print(t1[0])\n",
        "print(t1[2:5])\n",
        "print(t1[::-1])"
      ]
    },
    {
      "cell_type": "markdown",
      "metadata": {
        "id": "CbxWMbAhyYOC"
      },
      "source": [
        "**tuples are immutable**\n",
        "\n",
        "in tuple we cannot replace, add, remove the items from the tuple"
      ]
    },
    {
      "cell_type": "code",
      "execution_count": null,
      "metadata": {
        "id": "0PmaKR3OyhTH"
      },
      "outputs": [],
      "source": [
        "l = list(t1)\n",
        "print(l)"
      ]
    },
    {
      "cell_type": "code",
      "execution_count": null,
      "metadata": {
        "id": "IZrEYNSyyrLg"
      },
      "outputs": [],
      "source": [
        "t2 = tuple(l)\n",
        "print(t2)"
      ]
    },
    {
      "cell_type": "markdown",
      "metadata": {
        "id": "QVfj29smcMQy"
      },
      "source": [
        "**26-12-2024**"
      ]
    },
    {
      "cell_type": "code",
      "execution_count": null,
      "metadata": {
        "id": "-Otea3Z2cd9w"
      },
      "outputs": [],
      "source": [
        "#tuples are faster than the list why--> beacuse tuples are immutable."
      ]
    },
    {
      "cell_type": "markdown",
      "metadata": {
        "id": "mkCRsgFYdHMh"
      },
      "source": [
        "**set**"
      ]
    },
    {
      "cell_type": "code",
      "execution_count": null,
      "metadata": {
        "id": "g3Gkqa6CdLuf"
      },
      "outputs": [],
      "source": [
        "#what is a set?\n",
        "#how can you define a set?\n",
        "#set---> {}\n",
        "#set is defined as unordered, immutable, and wont allow duplicates"
      ]
    },
    {
      "cell_type": "markdown",
      "metadata": {
        "id": "BlJ9Qf4hdrvr"
      },
      "source": [
        "**sets wont allow duplicates**"
      ]
    },
    {
      "cell_type": "code",
      "execution_count": null,
      "metadata": {
        "id": "cElwVqMPdvQR"
      },
      "outputs": [],
      "source": [
        "s1 = {1,2,3,4,5,6,7,8,1,4,5,6,1,2,3}\n",
        "#what is the length of above set\n",
        "print(len(s1))\n",
        "print(s1)\n",
        "print(type(s1))"
      ]
    },
    {
      "cell_type": "markdown",
      "metadata": {
        "id": "3LuDDCXCeRyf"
      },
      "source": [
        "**set is unordered**"
      ]
    },
    {
      "cell_type": "code",
      "execution_count": null,
      "metadata": {
        "id": "-fZUmVh2eJon"
      },
      "outputs": [],
      "source": [
        "#Unordered means the the elements in the set doesn't have sequence of index position numbers\n",
        "s2={'apple','banana','lemon','orange','lemon'}\n",
        "print(s2[1]) # 'set' object is not subscriptable bcz it is unordered"
      ]
    },
    {
      "cell_type": "code",
      "execution_count": null,
      "metadata": {
        "id": "xn648NIDe4RJ"
      },
      "outputs": [],
      "source": [
        "print(s2)"
      ]
    },
    {
      "cell_type": "markdown",
      "metadata": {
        "id": "WLZlfsTYe_sh"
      },
      "source": [
        "**set is immutable**"
      ]
    },
    {
      "cell_type": "code",
      "execution_count": null,
      "metadata": {
        "id": "9gCDH2xhhCIi"
      },
      "outputs": [],
      "source": [
        "#In sets we can add the new items and remove the items from set BUT we cannot replace the items in the SET\n",
        "print(dir(s2))\n",
        "\"\"\"\n",
        "'add', 'clear', 'copy', 'difference', 'difference_update', 'discard', 'intersection',\n",
        "'intersection_update', 'isdisjoint', 'issubset', 'issuperset', 'pop', 'remove',\n",
        "'symmetric_difference', 'symmetric_difference_update', 'union', 'update' \"\"\""
      ]
    },
    {
      "cell_type": "markdown",
      "metadata": {
        "id": "-gGSaNjmhhC9"
      },
      "source": [
        "**Add items into set**"
      ]
    },
    {
      "cell_type": "code",
      "execution_count": null,
      "metadata": {
        "id": "CxcEodWghkjz"
      },
      "outputs": [],
      "source": [
        "#1.add()\n",
        "s3={'banana', 'apple', 'orange', 'lemon'}\n",
        "s3.add('kiwi')\n",
        "print(s3)\n",
        "#what is the index position of item when you add item in to set?\n",
        "#random position BCZ  set is unordered"
      ]
    },
    {
      "cell_type": "code",
      "execution_count": null,
      "metadata": {
        "id": "A6UjKE_9iDs1"
      },
      "outputs": [],
      "source": [
        "#2.update() is used to add the multiple items in a set\n",
        "s4 ={'python','java','c++','C'}\n",
        "#update s3 with s4\n",
        "s3.update(s4)\n",
        "print(s3)"
      ]
    },
    {
      "cell_type": "markdown",
      "metadata": {
        "id": "U8NQRt8Jimv5"
      },
      "source": [
        "**remove the items from set**"
      ]
    },
    {
      "cell_type": "code",
      "execution_count": null,
      "metadata": {
        "id": "GH2yM7jBivQK"
      },
      "outputs": [],
      "source": [
        "#1.pop()--yes we can use but it not a prferable method\n",
        "s5 = {'java', 'C', 'banana', 'c++', 'kiwi', 'orange', 'python', 'apple', 'lemon'}\n",
        "s5.pop()\n",
        "print(s5)"
      ]
    },
    {
      "cell_type": "code",
      "execution_count": null,
      "metadata": {
        "id": "aGdgfFDqkjPd"
      },
      "outputs": [],
      "source": [
        "#2.remove()--> is used remove specific item\n",
        "s5.remove('kiwi')\n",
        "print(s5)"
      ]
    },
    {
      "cell_type": "code",
      "execution_count": null,
      "metadata": {
        "id": "vyHVlRw7k-RO"
      },
      "outputs": [],
      "source": [
        "#3.discard()-->is used remove specific item\n",
        "s5.discard('c++')\n",
        "print(s5)"
      ]
    },
    {
      "cell_type": "code",
      "execution_count": null,
      "metadata": {
        "id": "6XIgWi4ulPER"
      },
      "outputs": [],
      "source": [
        "#what is difference b/w remove and discard?\n",
        "#in remove() if the item doesn't exist means it through's an error\n",
        "#in discard() if the items doesn't exist it won't through an error\n",
        "s5.remove('c++')\n",
        "print(s5)"
      ]
    },
    {
      "cell_type": "code",
      "execution_count": null,
      "metadata": {
        "id": "ngbZqlppldzn"
      },
      "outputs": [],
      "source": [
        "s5.discard('kiwi')\n",
        "print(s5)"
      ]
    },
    {
      "cell_type": "code",
      "execution_count": null,
      "metadata": {
        "id": "ThLy4ilTl3Hh"
      },
      "outputs": [],
      "source": [
        "#remove all the elements from the set\n",
        "s5.clear()\n",
        "print(s5)"
      ]
    },
    {
      "cell_type": "code",
      "execution_count": null,
      "metadata": {
        "id": "id0ZVM5Gnr8R"
      },
      "outputs": [],
      "source": [
        "#delete the entire set s5\n",
        "del s5\n",
        "print(s5)"
      ]
    },
    {
      "cell_type": "code",
      "execution_count": null,
      "metadata": {
        "id": "X-AeaSRuoc1h"
      },
      "outputs": [],
      "source": [
        "#union() combine all the data sets\n",
        "s1 = {'a','b','c','d'}\n",
        "s2 = {'d','e','f','g'}\n",
        "print(s1.union(s2))"
      ]
    },
    {
      "cell_type": "code",
      "execution_count": null,
      "metadata": {
        "id": "WlySbdVIo0ad"
      },
      "outputs": [],
      "source": [
        "#intersection() prints the common elements\n",
        "print(s1.intersection(s2))"
      ]
    },
    {
      "cell_type": "code",
      "execution_count": null,
      "metadata": {
        "id": "yPvnJU3lo5jV"
      },
      "outputs": [],
      "source": [
        "#difference() substarction of the items from other set\n",
        "print(s1.difference(s2))"
      ]
    },
    {
      "cell_type": "markdown",
      "metadata": {
        "id": "M6sW8WEYpRqT"
      },
      "source": [
        "**dictionary**"
      ]
    },
    {
      "cell_type": "code",
      "execution_count": null,
      "metadata": {
        "id": "WUGfZnNHqMeh"
      },
      "outputs": [],
      "source": [
        "#what is dictionary or how you can define dictionary?\n",
        "#dictionary---> {}\n",
        "#dictionary is unordered, mutable, it won't allow the duplicates\n",
        "#How information in the dictionary is stored?\n",
        "#the data in the dictionary can be stored as {key:value} pairs"
      ]
    },
    {
      "cell_type": "markdown",
      "metadata": {
        "id": "zCzpJQvtrI9L"
      },
      "source": [
        "**dict won't allow the duplicates**"
      ]
    },
    {
      "cell_type": "code",
      "execution_count": null,
      "metadata": {
        "id": "Fidvn8tyrGwe"
      },
      "outputs": [],
      "source": [
        "d1 = {\n",
        "    'Name':'shahul',\n",
        "    'age':28,\n",
        "    'education': 'B.Tech',\n",
        "    'education': 'Masters'\n",
        "    }\n",
        "print(d1)\n",
        "print(len(d1))\n",
        "print(type(d1))"
      ]
    },
    {
      "cell_type": "markdown",
      "metadata": {
        "id": "3ns0paG_r7O7"
      },
      "source": [
        "**dict is unorderd** means no index position numbers"
      ]
    },
    {
      "cell_type": "code",
      "execution_count": null,
      "metadata": {
        "id": "KGy-6jj-twMK"
      },
      "outputs": [],
      "source": [
        "print(d1[0]) #KeyError: 0"
      ]
    },
    {
      "cell_type": "code",
      "execution_count": null,
      "metadata": {
        "id": "1ajCymmst_ci"
      },
      "outputs": [],
      "source": [
        "#how can we access the items in the dictionary\n",
        "#by using the \"keys\"\n",
        "print(d1['Name'])"
      ]
    },
    {
      "cell_type": "markdown",
      "metadata": {
        "id": "-JblDHmvuknt"
      },
      "source": [
        "**dict is muttable**"
      ]
    },
    {
      "cell_type": "code",
      "execution_count": null,
      "metadata": {
        "id": "Bbs42L8DuZCS"
      },
      "outputs": [],
      "source": [
        "d1 = {\n",
        "    'Name':'shahul',\n",
        "    'age':28,\n",
        "    'education': 'B.Tech',\n",
        "    'education': 'Masters'\n",
        "    }\n",
        "#replace the name with your 'sir' name\n",
        "d1['Name'] = 'sk'\n",
        "print(d1)"
      ]
    },
    {
      "cell_type": "code",
      "execution_count": null,
      "metadata": {
        "id": "Q-Q3Q1mdu-21"
      },
      "outputs": [],
      "source": [
        "#add a new key:value pair to the d1\n",
        "d1['bike'] = 'RE'\n",
        "print(d1)"
      ]
    },
    {
      "cell_type": "markdown",
      "metadata": {
        "id": "hyh5SjYHwzFD"
      },
      "source": [
        "**remove items from dictionary**"
      ]
    },
    {
      "cell_type": "code",
      "execution_count": null,
      "metadata": {
        "id": "93_m3wjrw2tY"
      },
      "outputs": [],
      "source": [
        "print(dir(d1))"
      ]
    },
    {
      "cell_type": "code",
      "execution_count": null,
      "metadata": {
        "id": "99ZU3egCxDh4"
      },
      "outputs": [],
      "source": [
        "\"\"\"'clear', 'copy', 'fromkeys', 'get', 'items', 'keys',\n",
        "'pop', 'popitem', 'setdefault', 'update', 'values' \"\"\"\n",
        "#pop('key_name\")  #note:- in pop() give the key name inside it\n",
        "d1.pop('age')\n",
        "d1"
      ]
    },
    {
      "cell_type": "code",
      "execution_count": null,
      "metadata": {
        "id": "wPDdmEpQxYOs"
      },
      "outputs": [],
      "source": [
        "#clear()"
      ]
    },
    {
      "cell_type": "code",
      "execution_count": null,
      "metadata": {
        "id": "0aA_WTSAxo7L"
      },
      "outputs": [],
      "source": [
        "#update\n",
        "d2 = {'fruit':['apple','banana','lemon']}\n",
        "d1.update(d2)\n",
        "print(d1)"
      ]
    },
    {
      "cell_type": "code",
      "execution_count": null,
      "metadata": {
        "id": "Meq3Kkhix3yp"
      },
      "outputs": [],
      "source": [
        "#print fruits from above d1\n",
        "#print(d1['fruit'])\n",
        "print(d1['fruit'][0])\n"
      ]
    },
    {
      "cell_type": "code",
      "execution_count": null,
      "metadata": {
        "id": "KIl9WF8KyV51"
      },
      "outputs": [],
      "source": [
        "print(d1.keys())"
      ]
    },
    {
      "cell_type": "code",
      "execution_count": null,
      "metadata": {
        "id": "LtiPkKlbyavv"
      },
      "outputs": [],
      "source": [
        "print(d1.values())"
      ]
    },
    {
      "cell_type": "code",
      "execution_count": null,
      "metadata": {
        "id": "2Y00zHd20MiX"
      },
      "outputs": [],
      "source": [
        "d2 = {\n",
        "    'Name': 'sk',\n",
        "    'education': 'Masters',\n",
        "    'bike': 'RE',\n",
        "    'fruit': {'apple', 'banana', 'lemon'}}\n",
        "#print(d2['fruit'][0])\n"
      ]
    },
    {
      "cell_type": "code",
      "execution_count": null,
      "metadata": {
        "id": "0sx_-G5f10t0"
      },
      "outputs": [],
      "source": [
        "d2.clear()\n",
        "print(d2)"
      ]
    },
    {
      "cell_type": "code",
      "execution_count": null,
      "metadata": {
        "id": "KVmKGlfH0eew"
      },
      "outputs": [],
      "source": [
        "#list--->[]--> ordered, muttable, allows duplicates\n",
        "      \"\"\"add methods:- append(),extend(), insert()\n",
        "        remove methods:- pop(),remove(),del l[start:end], clear\"\"\"\n",
        "#tuple-->()--> ordered, immutable, allows duplicates\n",
        "#set---> {}--> unordered, immutable, doesn't allow duplicates\n",
        "     \"\"\" add methods:- add(), update()\n",
        "        remove methods:- pop(),remove(),discard(),clear,del\"\"\"\n",
        "#dictionary--->{key:value}--> unordered,muttable, doen't allow duplicates\n",
        "    \"\"\" add methods:- update(),  d1['new_key_name']\n",
        "        remove methods:- pop('key_name'),clear(), del\"\"\""
      ]
    },
    {
      "cell_type": "code",
      "execution_count": null,
      "metadata": {
        "id": "aeHl2Ryy2Bm-"
      },
      "outputs": [],
      "source": [
        "#sort can be done based on ASCII values\n",
        "l = ['Apple','banana','kiwi','Orange','grapes']\n",
        "l.sort(reverse = False)\n",
        "print(l)"
      ]
    },
    {
      "cell_type": "code",
      "execution_count": null,
      "metadata": {
        "id": "7JigO3Hr2d7s"
      },
      "outputs": [],
      "source": [
        "print(dir(l))"
      ]
    },
    {
      "cell_type": "code",
      "execution_count": null,
      "metadata": {
        "id": "YXg4dlZq20yZ"
      },
      "outputs": [],
      "source": [
        "a = [1,2,3,4,1,4,3,4,5,6,6]\n",
        "a.sort(reverse = True)\n",
        "print(a)"
      ]
    },
    {
      "cell_type": "code",
      "execution_count": null,
      "metadata": {
        "id": "oRlrIKRY37gv"
      },
      "outputs": [],
      "source": [
        "#can we convert a list in to dictionary--> n0\n",
        "#can we convery a list in to set-->yes\n",
        "print(set(a))"
      ]
    },
    {
      "cell_type": "code",
      "execution_count": null,
      "metadata": {
        "id": "yN7NSFvcgIN7"
      },
      "outputs": [],
      "source": [
        "#find the minimum number in a list?\n",
        "list = [2,15,85,35,65,12,125,2,12,34,5,6,8]\n",
        "min = list[0]\n",
        "for i in list:\n",
        "  if min > i:\n",
        "    min = i\n",
        "print(min)\n"
      ]
    },
    {
      "cell_type": "code",
      "execution_count": null,
      "metadata": {
        "id": "frHZm2GKiYS0"
      },
      "outputs": [],
      "source": [
        "##find the maximum number in a list?\n",
        "max = list[0]\n",
        "for i in list:\n",
        "  if max < i:\n",
        "    max = i\n",
        "print(max)"
      ]
    },
    {
      "cell_type": "code",
      "execution_count": null,
      "metadata": {
        "id": "tPfu1HBDjNBG"
      },
      "outputs": [],
      "source": [
        "#find the middle element in the list\n",
        "list = [1,2,3,4,5]\n",
        "mid = int(len(list)/2)\n",
        "print(list[mid])"
      ]
    },
    {
      "cell_type": "code",
      "execution_count": null,
      "metadata": {
        "id": "aTjyhMCEkZ2e"
      },
      "outputs": [],
      "source": [
        "#converting a list into string?\n",
        "list = ['p','y','t','h','o','n']\n",
        "string = \"\".join(list)\n",
        "print(string)\n",
        "print(type(string))"
      ]
    },
    {
      "cell_type": "code",
      "execution_count": null,
      "metadata": {
        "id": "1spy9OIClGHx"
      },
      "outputs": [],
      "source": [
        "#comparing two strings for anagrams?\n",
        "str1 = 'Listen'\n",
        "str2 = 'Silent'\n",
        "s = str1.lower()\n",
        "s2 = str2.lower()\n",
        "if len(s) == len(s2):\n",
        "  #print('string is in same length')\n",
        "  #sort the string\n",
        "  sort1 = sorted(s)\n",
        "  sort2 = sorted(s2)\n",
        "  if sort1 == sort2:\n",
        "    print(f'{str1} and {str2} are anagrams')\n",
        "  else:\n",
        "    print(f'{str1} and {str2} are not anagrams')\n",
        "\n"
      ]
    },
    {
      "cell_type": "markdown",
      "metadata": {
        "id": "I_QNCqhnorfm"
      },
      "source": []
    }
  ],
  "metadata": {
    "colab": {
      "provenance": [],
      "authorship_tag": "ABX9TyMjpmCQCH5ats6Ir67Pfg6v",
      "include_colab_link": true
    },
    "kernelspec": {
      "display_name": "Python 3",
      "name": "python3"
    },
    "language_info": {
      "name": "python"
    }
  },
  "nbformat": 4,
  "nbformat_minor": 0
}